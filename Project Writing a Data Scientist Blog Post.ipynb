{
 "cells": [
  {
   "cell_type": "markdown",
   "id": "7f22517a",
   "metadata": {},
   "source": [
    "# Project: Writing a Data Scientist Blog Post"
   ]
  },
  {
   "cell_type": "markdown",
   "id": "a8263c28",
   "metadata": {},
   "source": [
    "## Questions: about Seattle\n",
    "1. Short-term rentals or longer-term rentals is the common rental in Seattle ?\n",
    "2. What group of price is the common rental in Seattle ?\n",
    "3. How a bout listings per host ? multiple listings or single listings is the common listing in Seattle ?"
   ]
  },
  {
   "cell_type": "markdown",
   "id": "87426c15",
   "metadata": {},
   "source": [
    "## Prepare data\n"
   ]
  },
  {
   "cell_type": "markdown",
   "id": "87e74ce4",
   "metadata": {},
   "source": [
    "### Gather necessary data to answer your questions"
   ]
  },
  {
   "cell_type": "code",
   "execution_count": 1,
   "id": "fc426dbd",
   "metadata": {},
   "outputs": [],
   "source": [
    "# Import necessaire \n",
    "import numpy as np # linear algebra\n",
    "import pandas as pd # data processing, CSV file I/O (e.g. pd.read_csv) \n",
    "import seaborn as sns\n",
    "from matplotlib import pyplot as plt"
   ]
  },
  {
   "cell_type": "code",
   "execution_count": 2,
   "id": "32485fa9",
   "metadata": {},
   "outputs": [],
   "source": [
    "# Load data from local\n",
    "df_listing = pd.read_csv('dataset/listings.csv')"
   ]
  },
  {
   "cell_type": "markdown",
   "id": "2256189c",
   "metadata": {},
   "source": [
    "### Handle categorical and missing data"
   ]
  },
  {
   "cell_type": "code",
   "execution_count": 3,
   "id": "786bb42d",
   "metadata": {},
   "outputs": [
    {
     "data": {
      "text/plain": [
       "(3585, 95)"
      ]
     },
     "execution_count": 3,
     "metadata": {},
     "output_type": "execute_result"
    }
   ],
   "source": [
    "df_listing.shape"
   ]
  },
  {
   "cell_type": "code",
   "execution_count": 4,
   "id": "7a111f4c",
   "metadata": {},
   "outputs": [
    {
     "data": {
      "text/plain": [
       "(3585, 91)"
      ]
     },
     "execution_count": 4,
     "metadata": {},
     "output_type": "execute_result"
    }
   ],
   "source": [
    "#delete columns with null %100\n",
    "df_listing = df_listing.dropna(axis = 1, how = 'all')\n",
    "df_listing.shape"
   ]
  },
  {
   "cell_type": "code",
   "execution_count": 5,
   "id": "8b2d83d6",
   "metadata": {},
   "outputs": [
    {
     "data": {
      "text/html": [
       "<div>\n",
       "<style scoped>\n",
       "    .dataframe tbody tr th:only-of-type {\n",
       "        vertical-align: middle;\n",
       "    }\n",
       "\n",
       "    .dataframe tbody tr th {\n",
       "        vertical-align: top;\n",
       "    }\n",
       "\n",
       "    .dataframe thead th {\n",
       "        text-align: right;\n",
       "    }\n",
       "</style>\n",
       "<table border=\"1\" class=\"dataframe\">\n",
       "  <thead>\n",
       "    <tr style=\"text-align: right;\">\n",
       "      <th></th>\n",
       "      <th>id</th>\n",
       "      <th>listing_url</th>\n",
       "      <th>scrape_id</th>\n",
       "      <th>last_scraped</th>\n",
       "      <th>name</th>\n",
       "      <th>summary</th>\n",
       "      <th>space</th>\n",
       "      <th>description</th>\n",
       "      <th>experiences_offered</th>\n",
       "      <th>neighborhood_overview</th>\n",
       "      <th>...</th>\n",
       "      <th>review_scores_communication</th>\n",
       "      <th>review_scores_location</th>\n",
       "      <th>review_scores_value</th>\n",
       "      <th>requires_license</th>\n",
       "      <th>instant_bookable</th>\n",
       "      <th>cancellation_policy</th>\n",
       "      <th>require_guest_profile_picture</th>\n",
       "      <th>require_guest_phone_verification</th>\n",
       "      <th>calculated_host_listings_count</th>\n",
       "      <th>reviews_per_month</th>\n",
       "    </tr>\n",
       "  </thead>\n",
       "  <tbody>\n",
       "    <tr>\n",
       "      <th>0</th>\n",
       "      <td>12147973</td>\n",
       "      <td>https://www.airbnb.com/rooms/12147973</td>\n",
       "      <td>20160906204935</td>\n",
       "      <td>2016-09-07</td>\n",
       "      <td>Sunny Bungalow in the City</td>\n",
       "      <td>Cozy, sunny, family home.  Master bedroom high...</td>\n",
       "      <td>The house has an open and cozy feel at the sam...</td>\n",
       "      <td>Cozy, sunny, family home.  Master bedroom high...</td>\n",
       "      <td>none</td>\n",
       "      <td>Roslindale is quiet, convenient and friendly. ...</td>\n",
       "      <td>...</td>\n",
       "      <td>NaN</td>\n",
       "      <td>NaN</td>\n",
       "      <td>NaN</td>\n",
       "      <td>f</td>\n",
       "      <td>f</td>\n",
       "      <td>moderate</td>\n",
       "      <td>f</td>\n",
       "      <td>f</td>\n",
       "      <td>1</td>\n",
       "      <td>NaN</td>\n",
       "    </tr>\n",
       "    <tr>\n",
       "      <th>1</th>\n",
       "      <td>3075044</td>\n",
       "      <td>https://www.airbnb.com/rooms/3075044</td>\n",
       "      <td>20160906204935</td>\n",
       "      <td>2016-09-07</td>\n",
       "      <td>Charming room in pet friendly apt</td>\n",
       "      <td>Charming and quiet room in a second floor 1910...</td>\n",
       "      <td>Small but cozy and quite room with a full size...</td>\n",
       "      <td>Charming and quiet room in a second floor 1910...</td>\n",
       "      <td>none</td>\n",
       "      <td>The room is in Roslindale, a diverse and prima...</td>\n",
       "      <td>...</td>\n",
       "      <td>10.0</td>\n",
       "      <td>9.0</td>\n",
       "      <td>9.0</td>\n",
       "      <td>f</td>\n",
       "      <td>t</td>\n",
       "      <td>moderate</td>\n",
       "      <td>f</td>\n",
       "      <td>f</td>\n",
       "      <td>1</td>\n",
       "      <td>1.3</td>\n",
       "    </tr>\n",
       "  </tbody>\n",
       "</table>\n",
       "<p>2 rows × 91 columns</p>\n",
       "</div>"
      ],
      "text/plain": [
       "         id                            listing_url       scrape_id  \\\n",
       "0  12147973  https://www.airbnb.com/rooms/12147973  20160906204935   \n",
       "1   3075044   https://www.airbnb.com/rooms/3075044  20160906204935   \n",
       "\n",
       "  last_scraped                               name  \\\n",
       "0   2016-09-07         Sunny Bungalow in the City   \n",
       "1   2016-09-07  Charming room in pet friendly apt   \n",
       "\n",
       "                                             summary  \\\n",
       "0  Cozy, sunny, family home.  Master bedroom high...   \n",
       "1  Charming and quiet room in a second floor 1910...   \n",
       "\n",
       "                                               space  \\\n",
       "0  The house has an open and cozy feel at the sam...   \n",
       "1  Small but cozy and quite room with a full size...   \n",
       "\n",
       "                                         description experiences_offered  \\\n",
       "0  Cozy, sunny, family home.  Master bedroom high...                none   \n",
       "1  Charming and quiet room in a second floor 1910...                none   \n",
       "\n",
       "                               neighborhood_overview  ...  \\\n",
       "0  Roslindale is quiet, convenient and friendly. ...  ...   \n",
       "1  The room is in Roslindale, a diverse and prima...  ...   \n",
       "\n",
       "  review_scores_communication review_scores_location review_scores_value  \\\n",
       "0                         NaN                    NaN                 NaN   \n",
       "1                        10.0                    9.0                 9.0   \n",
       "\n",
       "  requires_license instant_bookable cancellation_policy  \\\n",
       "0                f                f            moderate   \n",
       "1                f                t            moderate   \n",
       "\n",
       "  require_guest_profile_picture require_guest_phone_verification  \\\n",
       "0                             f                                f   \n",
       "1                             f                                f   \n",
       "\n",
       "  calculated_host_listings_count  reviews_per_month  \n",
       "0                              1                NaN  \n",
       "1                              1                1.3  \n",
       "\n",
       "[2 rows x 91 columns]"
      ]
     },
     "execution_count": 5,
     "metadata": {},
     "output_type": "execute_result"
    }
   ],
   "source": [
    "df_listing.head(2)"
   ]
  },
  {
   "cell_type": "code",
   "execution_count": 6,
   "id": "cadc0593",
   "metadata": {},
   "outputs": [
    {
     "name": "stdout",
     "output_type": "stream",
     "text": [
      "<class 'pandas.core.frame.DataFrame'>\n",
      "RangeIndex: 3585 entries, 0 to 3584\n",
      "Data columns (total 91 columns):\n",
      " #   Column                            Non-Null Count  Dtype  \n",
      "---  ------                            --------------  -----  \n",
      " 0   id                                3585 non-null   int64  \n",
      " 1   listing_url                       3585 non-null   object \n",
      " 2   scrape_id                         3585 non-null   int64  \n",
      " 3   last_scraped                      3585 non-null   object \n",
      " 4   name                              3585 non-null   object \n",
      " 5   summary                           3442 non-null   object \n",
      " 6   space                             2528 non-null   object \n",
      " 7   description                       3585 non-null   object \n",
      " 8   experiences_offered               3585 non-null   object \n",
      " 9   neighborhood_overview             2170 non-null   object \n",
      " 10  notes                             1610 non-null   object \n",
      " 11  transit                           2295 non-null   object \n",
      " 12  access                            2096 non-null   object \n",
      " 13  interaction                       2031 non-null   object \n",
      " 14  house_rules                       2393 non-null   object \n",
      " 15  thumbnail_url                     2986 non-null   object \n",
      " 16  medium_url                        2986 non-null   object \n",
      " 17  picture_url                       3585 non-null   object \n",
      " 18  xl_picture_url                    2986 non-null   object \n",
      " 19  host_id                           3585 non-null   int64  \n",
      " 20  host_url                          3585 non-null   object \n",
      " 21  host_name                         3585 non-null   object \n",
      " 22  host_since                        3585 non-null   object \n",
      " 23  host_location                     3574 non-null   object \n",
      " 24  host_about                        2276 non-null   object \n",
      " 25  host_response_time                3114 non-null   object \n",
      " 26  host_response_rate                3114 non-null   object \n",
      " 27  host_acceptance_rate              3114 non-null   object \n",
      " 28  host_is_superhost                 3585 non-null   object \n",
      " 29  host_thumbnail_url                3585 non-null   object \n",
      " 30  host_picture_url                  3585 non-null   object \n",
      " 31  host_neighbourhood                3246 non-null   object \n",
      " 32  host_listings_count               3585 non-null   int64  \n",
      " 33  host_total_listings_count         3585 non-null   int64  \n",
      " 34  host_verifications                3585 non-null   object \n",
      " 35  host_has_profile_pic              3585 non-null   object \n",
      " 36  host_identity_verified            3585 non-null   object \n",
      " 37  street                            3585 non-null   object \n",
      " 38  neighbourhood                     3042 non-null   object \n",
      " 39  neighbourhood_cleansed            3585 non-null   object \n",
      " 40  city                              3583 non-null   object \n",
      " 41  state                             3585 non-null   object \n",
      " 42  zipcode                           3547 non-null   object \n",
      " 43  market                            3571 non-null   object \n",
      " 44  smart_location                    3585 non-null   object \n",
      " 45  country_code                      3585 non-null   object \n",
      " 46  country                           3585 non-null   object \n",
      " 47  latitude                          3585 non-null   float64\n",
      " 48  longitude                         3585 non-null   float64\n",
      " 49  is_location_exact                 3585 non-null   object \n",
      " 50  property_type                     3582 non-null   object \n",
      " 51  room_type                         3585 non-null   object \n",
      " 52  accommodates                      3585 non-null   int64  \n",
      " 53  bathrooms                         3571 non-null   float64\n",
      " 54  bedrooms                          3575 non-null   float64\n",
      " 55  beds                              3576 non-null   float64\n",
      " 56  bed_type                          3585 non-null   object \n",
      " 57  amenities                         3585 non-null   object \n",
      " 58  square_feet                       56 non-null     float64\n",
      " 59  price                             3585 non-null   object \n",
      " 60  weekly_price                      892 non-null    object \n",
      " 61  monthly_price                     888 non-null    object \n",
      " 62  security_deposit                  1342 non-null   object \n",
      " 63  cleaning_fee                      2478 non-null   object \n",
      " 64  guests_included                   3585 non-null   int64  \n",
      " 65  extra_people                      3585 non-null   object \n",
      " 66  minimum_nights                    3585 non-null   int64  \n",
      " 67  maximum_nights                    3585 non-null   int64  \n",
      " 68  calendar_updated                  3585 non-null   object \n",
      " 69  availability_30                   3585 non-null   int64  \n",
      " 70  availability_60                   3585 non-null   int64  \n",
      " 71  availability_90                   3585 non-null   int64  \n",
      " 72  availability_365                  3585 non-null   int64  \n",
      " 73  calendar_last_scraped             3585 non-null   object \n",
      " 74  number_of_reviews                 3585 non-null   int64  \n",
      " 75  first_review                      2829 non-null   object \n",
      " 76  last_review                       2829 non-null   object \n",
      " 77  review_scores_rating              2772 non-null   float64\n",
      " 78  review_scores_accuracy            2762 non-null   float64\n",
      " 79  review_scores_cleanliness         2767 non-null   float64\n",
      " 80  review_scores_checkin             2765 non-null   float64\n",
      " 81  review_scores_communication       2767 non-null   float64\n",
      " 82  review_scores_location            2763 non-null   float64\n",
      " 83  review_scores_value               2764 non-null   float64\n",
      " 84  requires_license                  3585 non-null   object \n",
      " 85  instant_bookable                  3585 non-null   object \n",
      " 86  cancellation_policy               3585 non-null   object \n",
      " 87  require_guest_profile_picture     3585 non-null   object \n",
      " 88  require_guest_phone_verification  3585 non-null   object \n",
      " 89  calculated_host_listings_count    3585 non-null   int64  \n",
      " 90  reviews_per_month                 2829 non-null   float64\n",
      "dtypes: float64(14), int64(15), object(62)\n",
      "memory usage: 2.5+ MB\n"
     ]
    }
   ],
   "source": [
    "df_listing.info()"
   ]
  },
  {
   "cell_type": "markdown",
   "id": "23dae0db",
   "metadata": {},
   "source": [
    "- We need to change type:\n",
    "      + id to object\n",
    "      + last_scraped, calendar_last_scraped, first_review, last_review to datetime\n",
    "      + maping host_is_superhost, host_identity_verified, requires_license, instant_bookable, require_guest_profile_picture, require_guest_phone_verification to bool"
   ]
  },
  {
   "cell_type": "code",
   "execution_count": 7,
   "id": "9e9d6a4d",
   "metadata": {},
   "outputs": [],
   "source": [
    "#fill null price,.. by 0\n",
    "df_listing = df_listing.fillna({'price' : '0', 'weekly_price' : '0', 'monthly_price' : '0', 'security_deposit' : '0','cleaning_fee' : '0'})\n",
    "\n",
    "#change type to float\n",
    "cols_to_price = ['price','weekly_price','monthly_price','security_deposit','cleaning_fee']\n",
    "for col in cols_to_price:\n",
    "    df_listing[col] = df_listing[col].apply(lambda x : x.replace('$', ''))\n",
    "    df_listing[col] = df_listing[col].apply(lambda x : x.replace(',', ''))\n",
    "    df_listing[col] = df_listing[col].astype(float)\n"
   ]
  },
  {
   "cell_type": "code",
   "execution_count": 8,
   "id": "161a81f0",
   "metadata": {},
   "outputs": [],
   "source": [
    "#maping {'f': False, 't': True}\n",
    "booleanDictionary = {'f': False, 't': True}\n",
    "df_listing['host_is_superhost'] = df_listing['host_is_superhost'].map(booleanDictionary)\n",
    "df_listing['host_identity_verified'] = df_listing['host_identity_verified'].map(booleanDictionary)\n",
    "df_listing['requires_license'] = df_listing['requires_license'].map(booleanDictionary)\n",
    "df_listing['instant_bookable'] = df_listing['instant_bookable'].map(booleanDictionary)\n",
    "df_listing['require_guest_profile_picture'] = df_listing['require_guest_profile_picture'].map(booleanDictionary)\n",
    "df_listing['require_guest_phone_verification'] = df_listing['require_guest_phone_verification'].map(booleanDictionary)\n",
    "\n",
    "#change type of date\n",
    "df_listing['last_scraped'] = pd.to_datetime(df_listing['last_scraped'] )\n",
    "df_listing['calendar_last_scraped'] = pd.to_datetime(df_listing['calendar_last_scraped'] )\n",
    "df_listing['first_review'] = pd.to_datetime(df_listing['first_review'] )\n",
    "df_listing['last_review'] = pd.to_datetime(df_listing['last_review'] )\n",
    "\n",
    "# change type to boject\n",
    "df_listing['id'] = df_listing['id'].astype('object')\n",
    "\n",
    "#\n",
    "df_listing['price'] = df_listing['price'].astype(int)\n",
    "df_listing['weekly_price'] = df_listing['weekly_price'].astype(int)\n",
    "df_listing['monthly_price'] = df_listing['monthly_price'].astype(int)\n",
    "df_listing['security_deposit'] = df_listing['security_deposit'].astype(int)\n",
    "df_listing['cleaning_fee'] = df_listing['cleaning_fee'].astype(int)\n"
   ]
  },
  {
   "cell_type": "code",
   "execution_count": 9,
   "id": "8df20b46",
   "metadata": {},
   "outputs": [
    {
     "data": {
      "text/plain": [
       "price                                        int32\n",
       "weekly_price                                 int32\n",
       "monthly_price                                int32\n",
       "security_deposit                             int32\n",
       "cleaning_fee                                 int32\n",
       "host_is_superhost                             bool\n",
       "host_identity_verified                        bool\n",
       "requires_license                              bool\n",
       "instant_bookable                              bool\n",
       "require_guest_profile_picture                 bool\n",
       "require_guest_phone_verification              bool\n",
       "last_scraped                        datetime64[ns]\n",
       "calendar_last_scraped               datetime64[ns]\n",
       "first_review                        datetime64[ns]\n",
       "last_review                         datetime64[ns]\n",
       "id                                          object\n",
       "dtype: object"
      ]
     },
     "execution_count": 9,
     "metadata": {},
     "output_type": "execute_result"
    }
   ],
   "source": [
    "#check type of data\n",
    "df_listing[['price', 'weekly_price', 'monthly_price', 'security_deposit','cleaning_fee',\\\n",
    "            'host_is_superhost', 'host_identity_verified', 'requires_license', 'instant_bookable',\\\n",
    "           'require_guest_profile_picture', 'require_guest_phone_verification', 'last_scraped',\\\n",
    "           'calendar_last_scraped', 'first_review', 'last_review', 'id']].dtypes"
   ]
  },
  {
   "cell_type": "markdown",
   "id": "d09bdafe",
   "metadata": {},
   "source": [
    "### Provide insight into the methods you chose and why you chose them"
   ]
  },
  {
   "cell_type": "markdown",
   "id": "1b2ded6e",
   "metadata": {},
   "source": [
    "I chose the CRISP-DM Process (Cross Industry Process for Data Mining) beacause:\n",
    "This method help me even when we get into the weeds of coding, try to take a step back and realize what part of the process you are in, assure that you remember the question you are trying to answer, and what a solution to that question would look like."
   ]
  },
  {
   "cell_type": "markdown",
   "id": "0ed2fdbf",
   "metadata": {},
   "source": [
    "## Analyze, Model, and Visualize"
   ]
  },
  {
   "cell_type": "markdown",
   "id": "9b96c04b",
   "metadata": {},
   "source": [
    "### Provide a clear connection between your business questions and how the data answers them"
   ]
  },
  {
   "cell_type": "markdown",
   "id": "7fe5e469",
   "metadata": {},
   "source": [
    "\n",
    "1. Short-term rentals or longer-term rentals is the common rental in Seattle ?\n",
    "- we are interesting about: minimum_nights\n",
    "2. What group of price is the common rental in Seattle ?\n",
    "- we are interesting about: price\n",
    "3. How a bout listings per host ? multiple listings or single listings is the common listing in Seattle ?\n",
    "- we are interesting about: room_type, host_name "
   ]
  },
  {
   "cell_type": "markdown",
   "id": "06e73702",
   "metadata": {},
   "source": [
    "#### 1. Short-term rentals or longer-term rentals is the common rental in Seattle ?"
   ]
  },
  {
   "cell_type": "code",
   "execution_count": 10,
   "id": "92b3ff68",
   "metadata": {},
   "outputs": [
    {
     "data": {
      "text/html": [
       "<div>\n",
       "<style scoped>\n",
       "    .dataframe tbody tr th:only-of-type {\n",
       "        vertical-align: middle;\n",
       "    }\n",
       "\n",
       "    .dataframe tbody tr th {\n",
       "        vertical-align: top;\n",
       "    }\n",
       "\n",
       "    .dataframe thead th {\n",
       "        text-align: right;\n",
       "    }\n",
       "</style>\n",
       "<table border=\"1\" class=\"dataframe\">\n",
       "  <thead>\n",
       "    <tr style=\"text-align: right;\">\n",
       "      <th></th>\n",
       "      <th>index</th>\n",
       "      <th>minimum_nights</th>\n",
       "    </tr>\n",
       "  </thead>\n",
       "  <tbody>\n",
       "    <tr>\n",
       "      <th>0</th>\n",
       "      <td>1</td>\n",
       "      <td>1426</td>\n",
       "    </tr>\n",
       "    <tr>\n",
       "      <th>1</th>\n",
       "      <td>2</td>\n",
       "      <td>998</td>\n",
       "    </tr>\n",
       "    <tr>\n",
       "      <th>2</th>\n",
       "      <td>3</td>\n",
       "      <td>615</td>\n",
       "    </tr>\n",
       "    <tr>\n",
       "      <th>3</th>\n",
       "      <td>4</td>\n",
       "      <td>126</td>\n",
       "    </tr>\n",
       "    <tr>\n",
       "      <th>5</th>\n",
       "      <td>5</td>\n",
       "      <td>95</td>\n",
       "    </tr>\n",
       "    <tr>\n",
       "      <th>10</th>\n",
       "      <td>6</td>\n",
       "      <td>18</td>\n",
       "    </tr>\n",
       "    <tr>\n",
       "      <th>4</th>\n",
       "      <td>7</td>\n",
       "      <td>124</td>\n",
       "    </tr>\n",
       "    <tr>\n",
       "      <th>26</th>\n",
       "      <td>8</td>\n",
       "      <td>1</td>\n",
       "    </tr>\n",
       "    <tr>\n",
       "      <th>19</th>\n",
       "      <td>9</td>\n",
       "      <td>2</td>\n",
       "    </tr>\n",
       "    <tr>\n",
       "      <th>6</th>\n",
       "      <td>10</td>\n",
       "      <td>65</td>\n",
       "    </tr>\n",
       "    <tr>\n",
       "      <th>20</th>\n",
       "      <td>11</td>\n",
       "      <td>1</td>\n",
       "    </tr>\n",
       "    <tr>\n",
       "      <th>24</th>\n",
       "      <td>13</td>\n",
       "      <td>1</td>\n",
       "    </tr>\n",
       "    <tr>\n",
       "      <th>8</th>\n",
       "      <td>14</td>\n",
       "      <td>25</td>\n",
       "    </tr>\n",
       "    <tr>\n",
       "      <th>9</th>\n",
       "      <td>15</td>\n",
       "      <td>20</td>\n",
       "    </tr>\n",
       "    <tr>\n",
       "      <th>21</th>\n",
       "      <td>17</td>\n",
       "      <td>1</td>\n",
       "    </tr>\n",
       "    <tr>\n",
       "      <th>22</th>\n",
       "      <td>18</td>\n",
       "      <td>1</td>\n",
       "    </tr>\n",
       "    <tr>\n",
       "      <th>11</th>\n",
       "      <td>20</td>\n",
       "      <td>8</td>\n",
       "    </tr>\n",
       "    <tr>\n",
       "      <th>15</th>\n",
       "      <td>21</td>\n",
       "      <td>3</td>\n",
       "    </tr>\n",
       "    <tr>\n",
       "      <th>23</th>\n",
       "      <td>23</td>\n",
       "      <td>1</td>\n",
       "    </tr>\n",
       "    <tr>\n",
       "      <th>16</th>\n",
       "      <td>25</td>\n",
       "      <td>3</td>\n",
       "    </tr>\n",
       "    <tr>\n",
       "      <th>17</th>\n",
       "      <td>27</td>\n",
       "      <td>2</td>\n",
       "    </tr>\n",
       "    <tr>\n",
       "      <th>12</th>\n",
       "      <td>28</td>\n",
       "      <td>7</td>\n",
       "    </tr>\n",
       "    <tr>\n",
       "      <th>7</th>\n",
       "      <td>30</td>\n",
       "      <td>29</td>\n",
       "    </tr>\n",
       "    <tr>\n",
       "      <th>13</th>\n",
       "      <td>32</td>\n",
       "      <td>4</td>\n",
       "    </tr>\n",
       "    <tr>\n",
       "      <th>14</th>\n",
       "      <td>60</td>\n",
       "      <td>4</td>\n",
       "    </tr>\n",
       "    <tr>\n",
       "      <th>18</th>\n",
       "      <td>90</td>\n",
       "      <td>2</td>\n",
       "    </tr>\n",
       "    <tr>\n",
       "      <th>25</th>\n",
       "      <td>200</td>\n",
       "      <td>1</td>\n",
       "    </tr>\n",
       "    <tr>\n",
       "      <th>28</th>\n",
       "      <td>273</td>\n",
       "      <td>1</td>\n",
       "    </tr>\n",
       "    <tr>\n",
       "      <th>27</th>\n",
       "      <td>300</td>\n",
       "      <td>1</td>\n",
       "    </tr>\n",
       "  </tbody>\n",
       "</table>\n",
       "</div>"
      ],
      "text/plain": [
       "    index  minimum_nights\n",
       "0       1            1426\n",
       "1       2             998\n",
       "2       3             615\n",
       "3       4             126\n",
       "5       5              95\n",
       "10      6              18\n",
       "4       7             124\n",
       "26      8               1\n",
       "19      9               2\n",
       "6      10              65\n",
       "20     11               1\n",
       "24     13               1\n",
       "8      14              25\n",
       "9      15              20\n",
       "21     17               1\n",
       "22     18               1\n",
       "11     20               8\n",
       "15     21               3\n",
       "23     23               1\n",
       "16     25               3\n",
       "17     27               2\n",
       "12     28               7\n",
       "7      30              29\n",
       "13     32               4\n",
       "14     60               4\n",
       "18     90               2\n",
       "25    200               1\n",
       "28    273               1\n",
       "27    300               1"
      ]
     },
     "execution_count": 10,
     "metadata": {},
     "output_type": "execute_result"
    }
   ],
   "source": [
    "df_listing['minimum_nights'].value_counts().reset_index().sort_values(by='index')"
   ]
  },
  {
   "cell_type": "code",
   "execution_count": 11,
   "id": "e2a3592c",
   "metadata": {},
   "outputs": [
    {
     "data": {
      "image/png": "[encoded data removed]",
      "text/plain": [
       "<Figure size 1400x800 with 1 Axes>"
      ]
     },
     "metadata": {},
     "output_type": "display_data"
    }
   ],
   "source": [
    "#chart\n",
    "default_color = sns.color_palette()[0]\n",
    "maxv = 20\n",
    "f = sns.displot(np.clip(df_listing['minimum_nights'], 0, maxv+1), binwidth = 1, color = default_color );\n",
    "f.ax.set_xticks(np.arange(1, maxv+1) + 0.5);\n",
    "f.ax.set_xticklabels(np.arange(1, maxv).tolist() + [f'{maxv}+']);\n",
    "f.fig.set_figwidth(14);\n",
    "f.fig.set_figheight(8);\n",
    "f.fig.subplots_adjust(top=.9);\n",
    "f.fig.suptitle('frequrncy of inimum_nights ');"
   ]
  },
  {
   "cell_type": "markdown",
   "id": "a30fc77a",
   "metadata": {},
   "source": [
    "#### Observations:\n",
    "- A lot of listing have minimum night are one night in seattle\n",
    "  -> Short-term rentals is the common rental in Seattle"
   ]
  },
  {
   "cell_type": "markdown",
   "id": "d7411979",
   "metadata": {},
   "source": [
    "#### 2. What group of price is the common rental in Seattle ?"
   ]
  },
  {
   "cell_type": "code",
   "execution_count": 12,
   "id": "4905b467",
   "metadata": {},
   "outputs": [
    {
     "data": {
      "text/html": [
       "<div>\n",
       "<style scoped>\n",
       "    .dataframe tbody tr th:only-of-type {\n",
       "        vertical-align: middle;\n",
       "    }\n",
       "\n",
       "    .dataframe tbody tr th {\n",
       "        vertical-align: top;\n",
       "    }\n",
       "\n",
       "    .dataframe thead th {\n",
       "        text-align: right;\n",
       "    }\n",
       "</style>\n",
       "<table border=\"1\" class=\"dataframe\">\n",
       "  <thead>\n",
       "    <tr style=\"text-align: right;\">\n",
       "      <th></th>\n",
       "      <th>Price</th>\n",
       "      <th>Count</th>\n",
       "    </tr>\n",
       "  </thead>\n",
       "  <tbody>\n",
       "    <tr>\n",
       "      <th>1</th>\n",
       "      <td>(0, 100]</td>\n",
       "      <td>1252</td>\n",
       "    </tr>\n",
       "    <tr>\n",
       "      <th>0</th>\n",
       "      <td>(100, 200]</td>\n",
       "      <td>1337</td>\n",
       "    </tr>\n",
       "    <tr>\n",
       "      <th>2</th>\n",
       "      <td>(200, 300]</td>\n",
       "      <td>648</td>\n",
       "    </tr>\n",
       "    <tr>\n",
       "      <th>3</th>\n",
       "      <td>(300, 400]</td>\n",
       "      <td>222</td>\n",
       "    </tr>\n",
       "    <tr>\n",
       "      <th>4</th>\n",
       "      <td>(400, 500]</td>\n",
       "      <td>60</td>\n",
       "    </tr>\n",
       "    <tr>\n",
       "      <th>5</th>\n",
       "      <td>(500, 600]</td>\n",
       "      <td>28</td>\n",
       "    </tr>\n",
       "    <tr>\n",
       "      <th>6</th>\n",
       "      <td>(600, 700]</td>\n",
       "      <td>17</td>\n",
       "    </tr>\n",
       "    <tr>\n",
       "      <th>8</th>\n",
       "      <td>(700, 800]</td>\n",
       "      <td>5</td>\n",
       "    </tr>\n",
       "    <tr>\n",
       "      <th>11</th>\n",
       "      <td>(800, 900]</td>\n",
       "      <td>2</td>\n",
       "    </tr>\n",
       "    <tr>\n",
       "      <th>9</th>\n",
       "      <td>(900, 1000]</td>\n",
       "      <td>4</td>\n",
       "    </tr>\n",
       "    <tr>\n",
       "      <th>7</th>\n",
       "      <td>(1200, 1300]</td>\n",
       "      <td>5</td>\n",
       "    </tr>\n",
       "    <tr>\n",
       "      <th>10</th>\n",
       "      <td>(1300, 1400]</td>\n",
       "      <td>3</td>\n",
       "    </tr>\n",
       "    <tr>\n",
       "      <th>12</th>\n",
       "      <td>(2900, 3000]</td>\n",
       "      <td>1</td>\n",
       "    </tr>\n",
       "  </tbody>\n",
       "</table>\n",
       "</div>"
      ],
      "text/plain": [
       "           Price  Count\n",
       "1       (0, 100]   1252\n",
       "0     (100, 200]   1337\n",
       "2     (200, 300]    648\n",
       "3     (300, 400]    222\n",
       "4     (400, 500]     60\n",
       "5     (500, 600]     28\n",
       "6     (600, 700]     17\n",
       "8     (700, 800]      5\n",
       "11    (800, 900]      2\n",
       "9    (900, 1000]      4\n",
       "7   (1200, 1300]      5\n",
       "10  (1300, 1400]      3\n",
       "12  (2900, 3000]      1"
      ]
     },
     "execution_count": 12,
     "metadata": {},
     "output_type": "execute_result"
    }
   ],
   "source": [
    "# Devide price into group of price with step of 100$\n",
    "df_price = pd.cut(df_listing['price'], bins = range(0, df_listing['price'].max(), 100)).reset_index()\n",
    "df_price = df_price['price'].value_counts().reset_index()\n",
    "df_price.columns = ['Price', 'Count']\n",
    "df_price = df_price[df_price.Count != 0]\n",
    "df_price = df_price.sort_values(by='Price')\n",
    "df_price['Price'] = df_price['Price'].astype(object)\n",
    "df_price"
   ]
  },
  {
   "cell_type": "code",
   "execution_count": 13,
   "id": "e8c7b91b",
   "metadata": {},
   "outputs": [
    {
     "name": "stderr",
     "output_type": "stream",
     "text": [
      "C:\\Users\\P.Q.TRI\\AppData\\Local\\Temp\\ipykernel_4200\\3816566126.py:7: SettingWithCopyWarning: \n",
      "A value is trying to be set on a copy of a slice from a DataFrame.\n",
      "Try using .loc[row_indexer,col_indexer] = value instead\n",
      "\n",
      "See the caveats in the documentation: https://pandas.pydata.org/pandas-docs/stable/user_guide/indexing.html#returning-a-view-versus-a-copy\n",
      "  df_price_chart['index'] = list(range(0,len(df_price_chart)));\n",
      "C:\\Users\\P.Q.TRI\\AppData\\Local\\Temp\\ipykernel_4200\\3816566126.py:10: FutureWarning: Dropping of nuisance columns in DataFrame reductions (with 'numeric_only=None') is deprecated; in a future version this will raise TypeError.  Select only valid columns before calling the reduction.\n",
      "  df_price_chart.loc[maxn-1,col_y] = df_price[maxn-1:].sum().values[0];\n"
     ]
    }
   ],
   "source": [
    "maxn = 6\n",
    "index_last = '(500, 600+)'\n",
    "col_x = 'Price'\n",
    "col_y = 'Count'\n",
    "\n",
    "df_price_chart = df_price[:maxn]\n",
    "df_price_chart['index'] = list(range(0,len(df_price_chart)));\n",
    "df_price_chart = df_price_chart.set_index('index')\n",
    "df_price_chart.loc[maxn-1,col_x] = index_last\n",
    "df_price_chart.loc[maxn-1,col_y] = df_price[maxn-1:].sum().values[0];\n"
   ]
  },
  {
   "cell_type": "code",
   "execution_count": 14,
   "id": "dc32f12f",
   "metadata": {},
   "outputs": [
    {
     "data": {
      "image/png": "[encoded data removed]",
      "text/plain": [
       "<Figure size 900x600 with 1 Axes>"
      ]
     },
     "metadata": {},
     "output_type": "display_data"
    }
   ],
   "source": [
    "#Chart\n",
    "default_color = sns.color_palette()[0]\n",
    "fig, ax = plt.subplots(figsize=(9, 6))\n",
    "ax = sns.barplot(y = \"Price\", x = \"Count\", data = df_price_chart, color = default_color)\n",
    "plt.xlabel(\"Price($)\")\n",
    "plt.ylabel(\"Frequency\")\n",
    "plt.title(\"Group of Price\", fontsize = 16)\n",
    "plt.show();"
   ]
  },
  {
   "cell_type": "markdown",
   "id": "2fed5ebd",
   "metadata": {},
   "source": [
    "#### Observations:\n",
    "- The group of price is the common rental in Seattle is from 100dola to 200dola"
   ]
  },
  {
   "cell_type": "markdown",
   "id": "d2d999fa",
   "metadata": {},
   "source": [
    "#### 3. How a bout listings per host ? multiple listings or single listings is the common listing in Seattle ?"
   ]
  },
  {
   "cell_type": "code",
   "execution_count": 15,
   "id": "a8199762",
   "metadata": {},
   "outputs": [
    {
     "data": {
      "text/html": [
       "<div>\n",
       "<style scoped>\n",
       "    .dataframe tbody tr th:only-of-type {\n",
       "        vertical-align: middle;\n",
       "    }\n",
       "\n",
       "    .dataframe tbody tr th {\n",
       "        vertical-align: top;\n",
       "    }\n",
       "\n",
       "    .dataframe thead th {\n",
       "        text-align: right;\n",
       "    }\n",
       "</style>\n",
       "<table border=\"1\" class=\"dataframe\">\n",
       "  <thead>\n",
       "    <tr style=\"text-align: right;\">\n",
       "      <th>room_type</th>\n",
       "      <th>host_name</th>\n",
       "      <th>Entire home/apt</th>\n",
       "      <th>Private room</th>\n",
       "      <th>Shared room</th>\n",
       "      <th>Total</th>\n",
       "    </tr>\n",
       "  </thead>\n",
       "  <tbody>\n",
       "    <tr>\n",
       "      <th>650</th>\n",
       "      <td>Kara</td>\n",
       "      <td>137</td>\n",
       "      <td>1</td>\n",
       "      <td>0</td>\n",
       "      <td>138</td>\n",
       "    </tr>\n",
       "    <tr>\n",
       "      <th>1116</th>\n",
       "      <td>Seamless</td>\n",
       "      <td>76</td>\n",
       "      <td>3</td>\n",
       "      <td>0</td>\n",
       "      <td>79</td>\n",
       "    </tr>\n",
       "    <tr>\n",
       "      <th>879</th>\n",
       "      <td>Mike</td>\n",
       "      <td>69</td>\n",
       "      <td>2</td>\n",
       "      <td>0</td>\n",
       "      <td>71</td>\n",
       "    </tr>\n",
       "    <tr>\n",
       "      <th>405</th>\n",
       "      <td>Flatbook</td>\n",
       "      <td>58</td>\n",
       "      <td>0</td>\n",
       "      <td>0</td>\n",
       "      <td>58</td>\n",
       "    </tr>\n",
       "    <tr>\n",
       "      <th>50</th>\n",
       "      <td>Alicia</td>\n",
       "      <td>48</td>\n",
       "      <td>2</td>\n",
       "      <td>0</td>\n",
       "      <td>50</td>\n",
       "    </tr>\n",
       "    <tr>\n",
       "      <th>824</th>\n",
       "      <td>Marie</td>\n",
       "      <td>16</td>\n",
       "      <td>26</td>\n",
       "      <td>0</td>\n",
       "      <td>42</td>\n",
       "    </tr>\n",
       "    <tr>\n",
       "      <th>546</th>\n",
       "      <td>Jason</td>\n",
       "      <td>24</td>\n",
       "      <td>9</td>\n",
       "      <td>2</td>\n",
       "      <td>35</td>\n",
       "    </tr>\n",
       "    <tr>\n",
       "      <th>1289</th>\n",
       "      <td>Will</td>\n",
       "      <td>20</td>\n",
       "      <td>6</td>\n",
       "      <td>0</td>\n",
       "      <td>26</td>\n",
       "    </tr>\n",
       "    <tr>\n",
       "      <th>1112</th>\n",
       "      <td>Sarah</td>\n",
       "      <td>15</td>\n",
       "      <td>11</td>\n",
       "      <td>0</td>\n",
       "      <td>26</td>\n",
       "    </tr>\n",
       "    <tr>\n",
       "      <th>1164</th>\n",
       "      <td>Stay Alfred</td>\n",
       "      <td>25</td>\n",
       "      <td>0</td>\n",
       "      <td>0</td>\n",
       "      <td>25</td>\n",
       "    </tr>\n",
       "  </tbody>\n",
       "</table>\n",
       "</div>"
      ],
      "text/plain": [
       "room_type    host_name  Entire home/apt  Private room  Shared room  Total\n",
       "650               Kara              137             1            0    138\n",
       "1116          Seamless               76             3            0     79\n",
       "879               Mike               69             2            0     71\n",
       "405           Flatbook               58             0            0     58\n",
       "50              Alicia               48             2            0     50\n",
       "824              Marie               16            26            0     42\n",
       "546              Jason               24             9            2     35\n",
       "1289              Will               20             6            0     26\n",
       "1112             Sarah               15            11            0     26\n",
       "1164       Stay Alfred               25             0            0     25"
      ]
     },
     "execution_count": 15,
     "metadata": {},
     "output_type": "execute_result"
    }
   ],
   "source": [
    "#Group data by host_name and room_type\n",
    "df_host_group = df_listing.groupby(by = ['host_name','room_type'], as_index= False ).count().sort_values(by='id', ascending = False)\n",
    "df_host = df_host_group[['host_name','room_type','id']]\n",
    "\n",
    "# pivot table to have room_type like column\n",
    "df_host_pivot = pd.pivot_table(df_host, values='id', index=['host_name'],\n",
    "                    columns=['room_type'], aggfunc=np.sum)\n",
    "df_host_pivot = df_host_pivot.reset_index()\n",
    "df_host_pivot = df_host_pivot.fillna({'Entire home/apt':0,'Private room':0,'Shared room':0})\n",
    "df_host_pivot['Entire home/apt'] = df_host_pivot['Entire home/apt'].astype(int)\n",
    "df_host_pivot['Private room'] = df_host_pivot['Private room'].astype(int)\n",
    "df_host_pivot['Shared room'] = df_host_pivot['Shared room'].astype(int)\n",
    "\n",
    "\n",
    "# Cancule total of number listing of one host_name\n",
    "df_host_pivot['Total'] = df_host_pivot['Entire home/apt']+ df_host_pivot['Private room']+ df_host_pivot['Shared room']\n",
    "df_host_pivot = df_host_pivot.sort_values(by='Total', ascending = False)\n",
    "df_host_pivot.head(10)\n"
   ]
  },
  {
   "cell_type": "code",
   "execution_count": 16,
   "id": "fbb58913",
   "metadata": {},
   "outputs": [],
   "source": [
    "df_host_chart = df_host_pivot[['host_name', 'Entire home/apt', 'Private room', 'Shared room']][:10]"
   ]
  },
  {
   "cell_type": "code",
   "execution_count": 27,
   "id": "1d684921",
   "metadata": {},
   "outputs": [
    {
     "data": {
      "image/png": "[encoded data removed]",
      "text/plain": [
       "<Figure size 900x600 with 1 Axes>"
      ]
     },
     "metadata": {},
     "output_type": "display_data"
    }
   ],
   "source": [
    "sns.set(style = 'white')\n",
    "df_host_chart.set_index('host_name').plot(kind='bar', stacked = True, figsize=(9, 6), color = ['MediumSeaGreen', 'SandyBrown','steelblue'])\n",
    "plt.xlabel(\"host_name\")\n",
    "plt.ylabel(\"Total listing\")\n",
    "plt.title(\"Total listing per host name\", fontsize = 16)\n",
    "\n",
    "plt.show();"
   ]
  },
  {
   "cell_type": "markdown",
   "id": "931d1a5a",
   "metadata": {},
   "source": [
    "#### Observations:\n",
    "- There are some host have multiple apartments or homes available in their entirity like Kara, Sseamless"
   ]
  },
  {
   "cell_type": "code",
   "execution_count": 29,
   "id": "53dfdf24",
   "metadata": {},
   "outputs": [
    {
     "data": {
      "image/png": "[encoded data removed]",
      "text/plain": [
       "<Figure size 600x600 with 1 Axes>"
      ]
     },
     "metadata": {},
     "output_type": "display_data"
    }
   ],
   "source": [
    "# create column is multiple\n",
    "df_host_pivot['ismultiple'] = np.where(df_host_pivot['Total'] > 1, 'Multiple', 'Single')\n",
    "\n",
    "#Chart ratio of is multiple\n",
    "df_host_pivot['ismultiple'].value_counts().plot(kind='pie', figsize=(6, 6), autopct = '%1.0f%%');\n",
    "\n",
    "plt.title(\"Multiple and Single listing in Seattle \", fontsize = 16);\n",
    "plt.show();"
   ]
  },
  {
   "cell_type": "markdown",
   "id": "ba64f99c",
   "metadata": {},
   "source": [
    "#### Observations:\n",
    "- There are a lot of host separate rooms in the same apartment (64% listing) in  Seattle"
   ]
  },
  {
   "cell_type": "code",
   "execution_count": null,
   "id": "a0439b1e",
   "metadata": {},
   "outputs": [],
   "source": []
  }
 ],
 "metadata": {
  "kernelspec": {
   "display_name": "Python 3 (ipykernel)",
   "language": "python",
   "name": "python3"
  },
  "language_info": {
   "codemirror_mode": {
    "name": "ipython",
    "version": 3
   },
   "file_extension": ".py",
   "mimetype": "text/x-python",
   "name": "python",
   "nbconvert_exporter": "python",
   "pygments_lexer": "ipython3",
   "version": "3.9.13"
  }
 },
 "nbformat": 4,
 "nbformat_minor": 5
}
